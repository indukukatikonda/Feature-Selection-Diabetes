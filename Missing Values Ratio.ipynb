{
  "nbformat": 4,
  "nbformat_minor": 0,
  "metadata": {
    "colab": {
      "provenance": []
    },
    "kernelspec": {
      "name": "python3",
      "display_name": "Python 3"
    },
    "language_info": {
      "name": "python"
    }
  },
  "cells": [
    {
      "cell_type": "code",
      "source": [
        "import pandas as pd\n",
        "from sklearn.model_selection import train_test_split\n",
        "from sklearn.ensemble import RandomForestClassifier\n",
        "from sklearn.metrics import accuracy_score\n",
        "\n",
        "# Load the diabetes dataset\n",
        "file_path = '/content/diabetes.csv'\n",
        "diabetes_data = pd.read_csv(file_path)\n",
        "\n",
        "# Step 1: Count the number of zero values in relevant columns\n",
        "invalid_columns = ['Glucose', 'BloodPressure', 'SkinThickness', 'Insulin', 'BMI']\n",
        "zero_counts = (diabetes_data[invalid_columns] == 0).sum()\n",
        "\n",
        "# Step 2: Calculate the percentage of zero values in these columns\n",
        "missing_percentage = (zero_counts / len(diabetes_data)) * 100\n",
        "\n",
        "# Display the number and percentage of zero values\n",
        "print(\"Number of zero values:\")\n",
        "print(zero_counts)\n",
        "print(\"\\nPercentage of zero values:\")\n",
        "print(missing_percentage)\n",
        "\n",
        "# Step 3: Model accuracy before removing any columns\n",
        "X_full = diabetes_data.drop(columns=['Outcome'])\n",
        "y_full = diabetes_data['Outcome']\n",
        "\n",
        "X_train_full, X_test_full, y_train_full, y_test_full = train_test_split(X_full, y_full, test_size=0.2, random_state=42)\n",
        "\n",
        "# Train the model on full data\n",
        "model_full = RandomForestClassifier(random_state=42)\n",
        "model_full.fit(X_train_full, y_train_full)\n",
        "\n",
        "# Predict and calculate accuracy on full data\n",
        "y_pred_full = model_full.predict(X_test_full)\n",
        "accuracy_full = accuracy_score(y_test_full, y_pred_full)\n",
        "\n",
        "print(\"\\nModel Accuracy before removing columns: {:.2f}%\".format(accuracy_full * 100))\n",
        "\n",
        "# Step 4: Remove columns where the percentage of zero values exceeds 30%\n",
        "columns_to_remove = missing_percentage[missing_percentage > 30].index\n",
        "reduced_data = diabetes_data.drop(columns=columns_to_remove)\n",
        "\n",
        "# Display reduced dataset columns\n",
        "print(\"\\nReduced dataset columns:\")\n",
        "print(reduced_data.columns)\n",
        "\n",
        "# Step 5: Model accuracy after removing columns with more than 30% missing values\n",
        "X_reduced = reduced_data.drop(columns=['Outcome'])\n",
        "y_reduced = reduced_data['Outcome']\n",
        "\n",
        "X_train_reduced, X_test_reduced, y_train_reduced, y_test_reduced = train_test_split(X_reduced, y_reduced, test_size=0.2, random_state=42)\n",
        "\n",
        "# Train the model on reduced data\n",
        "model_reduced = RandomForestClassifier(random_state=42)\n",
        "model_reduced.fit(X_train_reduced, y_train_reduced)\n",
        "\n",
        "# Predict and calculate accuracy on reduced data\n",
        "y_pred_reduced = model_reduced.predict(X_test_reduced)\n",
        "accuracy_reduced = accuracy_score(y_test_reduced, y_pred_reduced)\n",
        "\n",
        "# Display model accuracy\n",
        "print(\"\\nModel Accuracy after removing columns: {:.2f}%\".format(accuracy_reduced * 100))\n"
      ],
      "metadata": {
        "colab": {
          "base_uri": "https://localhost:8080/"
        },
        "id": "kfg1ElStdGv-",
        "outputId": "9fb13791-2523-4828-d5a0-683deb17ea16"
      },
      "execution_count": 2,
      "outputs": [
        {
          "output_type": "stream",
          "name": "stdout",
          "text": [
            "Number of zero values:\n",
            "Glucose            5\n",
            "BloodPressure     35\n",
            "SkinThickness    227\n",
            "Insulin          374\n",
            "BMI               11\n",
            "dtype: int64\n",
            "\n",
            "Percentage of zero values:\n",
            "Glucose           0.651042\n",
            "BloodPressure     4.557292\n",
            "SkinThickness    29.557292\n",
            "Insulin          48.697917\n",
            "BMI               1.432292\n",
            "dtype: float64\n",
            "\n",
            "Model Accuracy before removing columns: 72.08%\n",
            "\n",
            "Reduced dataset columns:\n",
            "Index(['Pregnancies', 'Glucose', 'BloodPressure', 'SkinThickness', 'BMI',\n",
            "       'DiabetesPedigreeFunction', 'Age', 'Outcome'],\n",
            "      dtype='object')\n",
            "\n",
            "Model Accuracy after removing columns: 74.03%\n"
          ]
        }
      ]
    }
  ]
}