{
  "nbformat": 4,
  "nbformat_minor": 0,
  "metadata": {
    "colab": {
      "provenance": []
    },
    "kernelspec": {
      "name": "python3",
      "display_name": "Python 3"
    },
    "language_info": {
      "name": "python"
    }
  },
  "cells": [
    {
      "cell_type": "code",
      "source": [
        "import pandas as pd\n",
        "from sklearn.model_selection import train_test_split\n",
        "from sklearn.linear_model import LogisticRegression\n",
        "from sklearn.metrics import accuracy_score\n",
        "\n",
        "# Load the Dataset: Get the diabetes data.\n",
        "file_path = '/content/diabetes.csv'  # Ensure this file is in your working directory\n",
        "diabetes_data = pd.read_csv(file_path)\n",
        "\n",
        "# Split the Data: Use 80% for training and 20% for testing.\n",
        "X = diabetes_data.drop(columns='Outcome')  # Features\n",
        "y = diabetes_data['Outcome']  # Target variable\n",
        "X_train, X_test, y_train, y_test = train_test_split(X, y, test_size=0.2, random_state=42)\n",
        "\n",
        "# Select Features:\n",
        "selected_features = []  # Start with no features\n",
        "best_accuracy = 0\n",
        "\n",
        "# Add one feature at a time.\n",
        "while True:\n",
        "    current_best_accuracy = 0\n",
        "    best_feature = None\n",
        "\n",
        "    for feature in X.columns:\n",
        "        if feature not in selected_features:\n",
        "            # Train a model and check if it gets better\n",
        "            model = LogisticRegression(max_iter=200)\n",
        "            model.fit(X_train[selected_features + [feature]], y_train)\n",
        "            y_pred = model.predict(X_test[selected_features + [feature]])\n",
        "            accuracy = accuracy_score(y_test, y_pred)\n",
        "\n",
        "            # Keep features that improve the model\n",
        "            if accuracy > current_best_accuracy:\n",
        "                current_best_accuracy = accuracy\n",
        "                best_feature = feature\n",
        "\n",
        "    # If a new feature improves the accuracy, add it to the selected features\n",
        "    if best_feature is not None and current_best_accuracy > best_accuracy:\n",
        "        selected_features.append(best_feature)\n",
        "        best_accuracy = current_best_accuracy\n",
        "        print(f\"Added feature: {best_feature}, New Accuracy: {best_accuracy:.4f}\")\n",
        "    else:\n",
        "        break\n",
        "\n",
        "# Count the Features: See how many features you ended up with.\n",
        "best_n_features = len(selected_features)  # Count of selected features\n",
        "print(f\"The best number of features is {best_n_features}.\")\n",
        "print(\"Selected features:\", selected_features)\n"
      ],
      "metadata": {
        "colab": {
          "base_uri": "https://localhost:8080/"
        },
        "id": "zY5hY0D2rj0x",
        "outputId": "6020c87f-014f-4bf7-ae5f-cb3ab795beca"
      },
      "execution_count": 2,
      "outputs": [
        {
          "output_type": "stream",
          "name": "stdout",
          "text": [
            "Added feature: Glucose, New Accuracy: 0.7532\n",
            "Added feature: Pregnancies, New Accuracy: 0.7727\n",
            "Added feature: DiabetesPedigreeFunction, New Accuracy: 0.7857\n",
            "Added feature: SkinThickness, New Accuracy: 0.7987\n",
            "The best number of features is 4.\n",
            "Selected features: ['Glucose', 'Pregnancies', 'DiabetesPedigreeFunction', 'SkinThickness']\n"
          ]
        }
      ]
    }
  ]
}