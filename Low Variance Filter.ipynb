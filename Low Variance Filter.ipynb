{
  "nbformat": 4,
  "nbformat_minor": 0,
  "metadata": {
    "colab": {
      "provenance": []
    },
    "kernelspec": {
      "name": "python3",
      "display_name": "Python 3"
    },
    "language_info": {
      "name": "python"
    }
  },
  "cells": [
    {
      "cell_type": "code",
      "source": [
        "import pandas as pd\n",
        "import numpy as np\n",
        "from sklearn.model_selection import train_test_split\n",
        "from sklearn.ensemble import RandomForestClassifier\n",
        "from sklearn.metrics import accuracy_score\n",
        "\n",
        "# Load the diabetes dataset\n",
        "data = pd.read_csv('/content/diabetes.csv')  # Ensure the file path is correct\n",
        "\n",
        "# Step 1: Calculate the variance of each feature\n",
        "variances = data.var()\n",
        "print(\"Feature Variances:\")\n",
        "print(variances)  # Print variance for analysis\n",
        "\n",
        "# Step 2: Set a threshold for low variance\n",
        "threshold = 0.1  # Adjust this threshold based on the variance output\n",
        "low_variance_features = variances[variances < threshold].index.tolist()\n",
        "\n",
        "# Step 3: Remove low variance features\n",
        "data_filtered = data.drop(columns=low_variance_features)\n",
        "\n",
        "# Separate features and target\n",
        "X = data_filtered.drop(columns='Outcome')  # Assuming 'Outcome' is the target variable\n",
        "y = data_filtered['Outcome']\n",
        "\n",
        "# Step 4: Split the data into training and testing sets\n",
        "X_train, X_test, y_train, y_test = train_test_split(X, y, test_size=0.2, random_state=42)\n",
        "\n",
        "# Step 5: Train the model and evaluate accuracy after removing low variance features\n",
        "model = RandomForestClassifier(random_state=42)\n",
        "model.fit(X_train, y_train)\n",
        "y_pred = model.predict(X_test)\n",
        "\n",
        "# Calculate accuracy after removing low variance features\n",
        "accuracy_after = accuracy_score(y_test, y_pred)\n",
        "\n",
        "# Compare with the original model\n",
        "X_original = data.drop(columns='Outcome')\n",
        "X_train_original, X_test_original, y_train_original, y_test_original = train_test_split(X_original, y, test_size=0.2, random_state=42)\n",
        "\n",
        "model_original = RandomForestClassifier(random_state=42)\n",
        "model_original.fit(X_train_original, y_train_original)\n",
        "y_pred_original = model_original.predict(X_test_original)\n",
        "\n",
        "# Calculate accuracy before removing low variance features\n",
        "accuracy_before = accuracy_score(y_test_original, y_pred_original)\n",
        "\n",
        "# Output results in the desired format\n",
        "print(f'Removed Features: {low_variance_features}')\n",
        "print(f'Accuracy Before Filtering: {accuracy_before * 100:.2f}% (A_before = {accuracy_before:.2f})')\n",
        "print(f'Accuracy After Filtering: {accuracy_after * 100:.2f}% (A_after = {accuracy_after:.2f})')\n",
        "print(f'Features Used in Final Model: {X.shape[1]} (down from {X_original.shape[1]})')\n",
        "print(f'Final Features Used: {X.columns.tolist()}')  # Display the names of features used\n"
      ],
      "metadata": {
        "colab": {
          "base_uri": "https://localhost:8080/"
        },
        "id": "mNkTl-44z54v",
        "outputId": "93478614-07b1-4c56-e83a-33c800306ee5"
      },
      "execution_count": 1,
      "outputs": [
        {
          "output_type": "stream",
          "name": "stdout",
          "text": [
            "Feature Variances:\n",
            "Pregnancies                    11.354056\n",
            "Glucose                      1022.248314\n",
            "BloodPressure                 374.647271\n",
            "SkinThickness                 254.473245\n",
            "Insulin                     13281.180078\n",
            "BMI                            62.159984\n",
            "DiabetesPedigreeFunction        0.109779\n",
            "Age                           138.303046\n",
            "Outcome                         0.227483\n",
            "dtype: float64\n",
            "Removed Features: []\n",
            "Accuracy Before Filtering: 72.08% (A_before = 0.72)\n",
            "Accuracy After Filtering: 72.08% (A_after = 0.72)\n",
            "Features Used in Final Model: 8 (down from 8)\n",
            "Final Features Used: ['Pregnancies', 'Glucose', 'BloodPressure', 'SkinThickness', 'Insulin', 'BMI', 'DiabetesPedigreeFunction', 'Age']\n"
          ]
        }
      ]
    }
  ]
}