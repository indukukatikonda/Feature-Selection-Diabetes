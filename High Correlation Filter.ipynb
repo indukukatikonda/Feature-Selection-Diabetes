{
  "nbformat": 4,
  "nbformat_minor": 0,
  "metadata": {
    "colab": {
      "provenance": []
    },
    "kernelspec": {
      "name": "python3",
      "display_name": "Python 3"
    },
    "language_info": {
      "name": "python"
    }
  },
  "cells": [
    {
      "cell_type": "code",
      "source": [
        "import pandas as pd\n",
        "from sklearn.model_selection import train_test_split\n",
        "from sklearn.ensemble import RandomForestClassifier\n",
        "from sklearn.metrics import accuracy_score\n",
        "\n",
        "# Load dataset\n",
        "diabetes_data = pd.read_csv(\"/content/diabetes.csv\")\n",
        "\n",
        "# Step 1: Calculate the correlation matrix\n",
        "correlation_matrix = diabetes_data.corr()\n",
        "\n",
        "# Display the correlation matrix as a square table\n",
        "print(\"Correlation Matrix:\")\n",
        "print(correlation_matrix)\n",
        "\n",
        "# Step 2: Identify highly correlated feature pairs (correlation > 0.8)\n",
        "high_correlation_pairs = []\n",
        "for i in range(len(correlation_matrix.columns)):\n",
        "    for j in range(i):\n",
        "        if abs(correlation_matrix.iloc[i, j]) > 0.8:\n",
        "            feature_i = correlation_matrix.columns[i]\n",
        "            feature_j = correlation_matrix.columns[j]\n",
        "            high_correlation_pairs.append((feature_i, feature_j))\n",
        "\n",
        "# Print the highly correlated feature pairs\n",
        "print(\"\\nHighly Correlated Feature Pairs (Correlation > 0.8):\")\n",
        "print(high_correlation_pairs)\n",
        "\n",
        "# Step 3: Remove one feature from each pair of highly correlated features\n",
        "features_to_remove = [pair[1] for pair in high_correlation_pairs]\n",
        "diabetes_data_filtered = diabetes_data.drop(columns=features_to_remove)\n",
        "\n",
        "# Step 4: Split data into training and test sets\n",
        "X = diabetes_data.drop(columns=['Outcome'])\n",
        "y = diabetes_data['Outcome']\n",
        "X_train, X_test, y_train, y_test = train_test_split(X, y, test_size=0.2, random_state=42)\n",
        "\n",
        "X_filtered = diabetes_data_filtered.drop(columns=['Outcome'])\n",
        "X_train_filtered, X_test_filtered, y_train_filtered, y_test_filtered = train_test_split(X_filtered, y, test_size=0.2, random_state=42)\n",
        "\n",
        "# Step 5: Train RandomForestClassifier and calculate accuracy before removing correlated features\n",
        "model_before = RandomForestClassifier(random_state=42)\n",
        "model_before.fit(X_train, y_train)\n",
        "y_pred_before = model_before.predict(X_test)\n",
        "accuracy_before = accuracy_score(y_test, y_pred_before)\n",
        "\n",
        "# Step 6: Train RandomForestClassifier and calculate accuracy after removing correlated features\n",
        "model_after = RandomForestClassifier(random_state=42)\n",
        "model_after.fit(X_train_filtered, y_train_filtered)\n",
        "y_pred_after = model_after.predict(X_test_filtered)\n",
        "accuracy_after = accuracy_score(y_test_filtered, y_pred_after)\n",
        "\n",
        "# Step 7: Print the accuracies\n",
        "print(\"\\nModel Accuracy Before Removing Correlated Features: {:.2f}%\".format(accuracy_before * 100))\n",
        "print(\"Model Accuracy After Removing Correlated Features: {:.2f}%\".format(accuracy_after * 100))\n"
      ],
      "metadata": {
        "id": "wFXKHI-YtqxG",
        "outputId": "5e2c5e9f-c4a0-4f70-c9af-f47fa67aa068",
        "colab": {
          "base_uri": "https://localhost:8080/"
        }
      },
      "execution_count": 2,
      "outputs": [
        {
          "output_type": "stream",
          "name": "stdout",
          "text": [
            "Correlation Matrix:\n",
            "                          Pregnancies   Glucose  BloodPressure  SkinThickness  \\\n",
            "Pregnancies                  1.000000  0.129459       0.141282      -0.081672   \n",
            "Glucose                      0.129459  1.000000       0.152590       0.057328   \n",
            "BloodPressure                0.141282  0.152590       1.000000       0.207371   \n",
            "SkinThickness               -0.081672  0.057328       0.207371       1.000000   \n",
            "Insulin                     -0.073535  0.331357       0.088933       0.436783   \n",
            "BMI                          0.017683  0.221071       0.281805       0.392573   \n",
            "DiabetesPedigreeFunction    -0.033523  0.137337       0.041265       0.183928   \n",
            "Age                          0.544341  0.263514       0.239528      -0.113970   \n",
            "Outcome                      0.221898  0.466581       0.065068       0.074752   \n",
            "\n",
            "                           Insulin       BMI  DiabetesPedigreeFunction  \\\n",
            "Pregnancies              -0.073535  0.017683                 -0.033523   \n",
            "Glucose                   0.331357  0.221071                  0.137337   \n",
            "BloodPressure             0.088933  0.281805                  0.041265   \n",
            "SkinThickness             0.436783  0.392573                  0.183928   \n",
            "Insulin                   1.000000  0.197859                  0.185071   \n",
            "BMI                       0.197859  1.000000                  0.140647   \n",
            "DiabetesPedigreeFunction  0.185071  0.140647                  1.000000   \n",
            "Age                      -0.042163  0.036242                  0.033561   \n",
            "Outcome                   0.130548  0.292695                  0.173844   \n",
            "\n",
            "                               Age   Outcome  \n",
            "Pregnancies               0.544341  0.221898  \n",
            "Glucose                   0.263514  0.466581  \n",
            "BloodPressure             0.239528  0.065068  \n",
            "SkinThickness            -0.113970  0.074752  \n",
            "Insulin                  -0.042163  0.130548  \n",
            "BMI                       0.036242  0.292695  \n",
            "DiabetesPedigreeFunction  0.033561  0.173844  \n",
            "Age                       1.000000  0.238356  \n",
            "Outcome                   0.238356  1.000000  \n",
            "\n",
            "Highly Correlated Feature Pairs (Correlation > 0.8):\n",
            "[]\n",
            "\n",
            "Model Accuracy Before Removing Correlated Features: 72.08%\n",
            "Model Accuracy After Removing Correlated Features: 72.08%\n"
          ]
        }
      ]
    }
  ]
}