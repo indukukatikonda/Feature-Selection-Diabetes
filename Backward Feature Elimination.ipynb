{
  "nbformat": 4,
  "nbformat_minor": 0,
  "metadata": {
    "colab": {
      "provenance": []
    },
    "kernelspec": {
      "name": "python3",
      "display_name": "Python 3"
    },
    "language_info": {
      "name": "python"
    }
  },
  "cells": [
    {
      "cell_type": "code",
      "execution_count": 1,
      "metadata": {
        "colab": {
          "base_uri": "https://localhost:8080/"
        },
        "id": "sE4Prgc0tMna",
        "outputId": "89fb20a2-e95f-41af-e8bb-a39353d67dbc"
      },
      "outputs": [
        {
          "output_type": "stream",
          "name": "stdout",
          "text": [
            "The final features are: ['Glucose', 'BloodPressure', 'SkinThickness', 'BMI', 'DiabetesPedigreeFunction', 'Age']\n",
            "Performance metrics (number of features, accuracy):\n",
            "[(8, 0.7467532467532467), (7, 0.7402597402597403)]\n"
          ]
        }
      ],
      "source": [
        "import pandas as pd\n",
        "from sklearn.model_selection import train_test_split\n",
        "from sklearn.tree import DecisionTreeClassifier\n",
        "from sklearn.metrics import accuracy_score\n",
        "import numpy as np\n",
        "\n",
        "# Load the diabetes dataset\n",
        "diabetes_data = pd.read_csv('/content/diabetes.csv')  # Replace with your file path\n",
        "\n",
        "# Split the data into features and target\n",
        "X = diabetes_data.drop(columns=['Outcome'])  # Assuming 'Outcome' is the target variable\n",
        "y = diabetes_data['Outcome']\n",
        "\n",
        "# Split the dataset into training and testing sets (80% train, 20% test)\n",
        "X_train, X_test, y_train, y_test = train_test_split(X, y, test_size=0.2, random_state=42)\n",
        "\n",
        "# Initialize a decision tree classifier\n",
        "model = DecisionTreeClassifier(random_state=42)\n",
        "\n",
        "# List to store the performance metrics\n",
        "performance_metrics = []\n",
        "\n",
        "# Function to perform backward feature elimination\n",
        "def backward_feature_elimination(X_train, X_test, y_train, y_test):\n",
        "    # Start with all features\n",
        "    current_features = X_train.columns.tolist()\n",
        "\n",
        "    while len(current_features) > 0:\n",
        "        # Train the model with the current set of features\n",
        "        model.fit(X_train[current_features], y_train)\n",
        "\n",
        "        # Make predictions and calculate accuracy\n",
        "        y_pred = model.predict(X_test[current_features])\n",
        "        accuracy = accuracy_score(y_test, y_pred)\n",
        "        performance_metrics.append((len(current_features), accuracy))\n",
        "\n",
        "        # Get feature importances\n",
        "        importances = model.feature_importances_\n",
        "\n",
        "        # Create a DataFrame for importances\n",
        "        importance_df = pd.DataFrame({'Feature': current_features, 'Importance': importances})\n",
        "\n",
        "        # Find the least important feature\n",
        "        least_important = importance_df.nsmallest(1, 'Importance')\n",
        "\n",
        "        # Remove the least important feature\n",
        "        current_features.remove(least_important['Feature'].values[0])\n",
        "\n",
        "        # If performance decreases, break the loop\n",
        "        if len(performance_metrics) > 1 and accuracy < performance_metrics[-2][1]:\n",
        "            break\n",
        "\n",
        "    return current_features\n",
        "\n",
        "# Execute backward feature elimination\n",
        "final_features = backward_feature_elimination(X_train, X_test, y_train, y_test)\n",
        "\n",
        "# Print the final set of features\n",
        "print(\"The final features are:\", final_features)\n",
        "\n",
        "# Optional: Print the performance metrics throughout the process\n",
        "print(\"Performance metrics (number of features, accuracy):\")\n",
        "print(performance_metrics)\n"
      ]
    }
  ]
}