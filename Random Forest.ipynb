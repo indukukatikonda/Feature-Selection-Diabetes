{
  "nbformat": 4,
  "nbformat_minor": 0,
  "metadata": {
    "colab": {
      "provenance": []
    },
    "kernelspec": {
      "name": "python3",
      "display_name": "Python 3"
    },
    "language_info": {
      "name": "python"
    }
  },
  "cells": [
    {
      "cell_type": "code",
      "source": [
        "import pandas as pd\n",
        "from sklearn.model_selection import train_test_split\n",
        "from sklearn.ensemble import RandomForestRegressor\n",
        "from sklearn.metrics import mean_absolute_error, mean_squared_error, r2_score\n",
        "\n",
        "# Load the dataset\n",
        "file_path = '/content/diabetes.csv'\n",
        "diabetes_data = pd.read_csv(file_path)\n",
        "\n",
        "# Assume the target column is named 'Outcome' (change if different)\n",
        "X = diabetes_data.drop(columns=['Outcome'])\n",
        "y = diabetes_data['Outcome']\n",
        "\n",
        "# Split the data into training and testing sets\n",
        "X_train, X_test, y_train, y_test = train_test_split(X, y, test_size=0.2, random_state=42)\n",
        "\n",
        "# Train a Random Forest model\n",
        "rf_model = RandomForestRegressor(n_estimators=100, random_state=42)\n",
        "rf_model.fit(X_train, y_train)\n",
        "\n",
        "# Get feature importance\n",
        "importances = rf_model.feature_importances_\n",
        "feature_importance_df = pd.DataFrame({'Feature': X.columns, 'Importance': importances})\n",
        "feature_importance_df = feature_importance_df.sort_values(by='Importance', ascending=False)\n",
        "\n",
        "# Select the top 5 features\n",
        "top_5_features = feature_importance_df['Feature'].head(5)\n",
        "X_train_top5 = X_train[top_5_features]\n",
        "X_test_top5 = X_test[top_5_features]\n",
        "\n",
        "# Train a new Random Forest model using just the top 5 features\n",
        "rf_model_top5 = RandomForestRegressor(n_estimators=100, random_state=42)\n",
        "rf_model_top5.fit(X_train_top5, y_train)\n",
        "\n",
        "# Make predictions and evaluate performance\n",
        "y_pred_top5 = rf_model_top5.predict(X_test_top5)\n",
        "\n",
        "mae = mean_absolute_error(y_test, y_pred_top5)\n",
        "mse = mean_squared_error(y_test, y_pred_top5)\n",
        "r2 = r2_score(y_test, y_pred_top5)\n",
        "\n",
        "print(f\"Top 5 Features: {top_5_features.tolist()}\")\n",
        "print(f\"Mean Absolute Error (MAE): {mae}\")\n",
        "print(f\"Mean Squared Error (MSE): {mse}\")\n",
        "print(f\"R² : {r2}\")\n"
      ],
      "metadata": {
        "colab": {
          "base_uri": "https://localhost:8080/"
        },
        "id": "H29xuLyV2x6R",
        "outputId": "cbe8a9c7-e8dc-42d5-8165-16a108fa7c1c"
      },
      "execution_count": 1,
      "outputs": [
        {
          "output_type": "stream",
          "name": "stdout",
          "text": [
            "Top 5 Features: ['Glucose', 'BMI', 'Age', 'DiabetesPedigreeFunction', 'BloodPressure']\n",
            "Mean Absolute Error (MAE): 0.3057792207792208\n",
            "Mean Squared Error (MSE): 0.1700642857142857\n",
            "R² : 0.25927555555555537\n"
          ]
        }
      ]
    }
  ]
}